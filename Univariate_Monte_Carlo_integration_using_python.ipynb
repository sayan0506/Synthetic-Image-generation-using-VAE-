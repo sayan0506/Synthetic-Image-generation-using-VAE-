{
  "nbformat": 4,
  "nbformat_minor": 0,
  "metadata": {
    "colab": {
      "name": "Univariate Monte-Carlo integration using python.ipynb",
      "provenance": [],
      "toc_visible": true,
      "authorship_tag": "ABX9TyO9uW7KSpCCqppMaS6WKvdH",
      "include_colab_link": true
    },
    "kernelspec": {
      "name": "python3",
      "display_name": "Python 3"
    }
  },
  "cells": [
    {
      "cell_type": "markdown",
      "metadata": {
        "id": "view-in-github",
        "colab_type": "text"
      },
      "source": [
        "<a href=\"https://colab.research.google.com/github/sayan0506/Synthetic-Image-generation-using-VAE-/blob/main/Univariate_Monte_Carlo_integration_using_python.ipynb\" target=\"_parent\"><img src=\"https://colab.research.google.com/assets/colab-badge.svg\" alt=\"Open In Colab\"/></a>"
      ]
    },
    {
      "cell_type": "markdown",
      "metadata": {
        "id": "3mnUkxDE4Wnz"
      },
      "source": [
        "# Univariate Monte-Carlo integration using python\r\n",
        "\r\n",
        "Our goal is to implement monte-carlo integration method to find the integral of **Cosine of x cos(x) for x belongs to [0,pi]**"
      ]
    },
    {
      "cell_type": "code",
      "metadata": {
        "id": "QhRUZYY936HE"
      },
      "source": [
        "# Importing the necessary python modules\r\n",
        "\r\n",
        "from scipy import random\r\n",
        "import numpy as np\r\n",
        "from matplotlib import pyplot as plt"
      ],
      "execution_count": 1,
      "outputs": []
    },
    {
      "cell_type": "markdown",
      "metadata": {
        "id": "yc7K6H1C46fr"
      },
      "source": [
        "# Our tasks towards the Monte-Carlo integration implemenation\r\n",
        "\r\n",
        "The steps we need to follow for approaching towards the integration:\r\n",
        ">1. Function to integrate\r\n",
        ">2. Finding the limits\r\n",
        ">3. Random number Generator\r\n",
        ">4. Loop through M.C. equation"
      ]
    },
    {
      "cell_type": "markdown",
      "metadata": {
        "id": "jdRAt55j5hyi"
      },
      "source": [
        "# Defining the Limits of integration"
      ]
    },
    {
      "cell_type": "code",
      "metadata": {
        "colab": {
          "base_uri": "https://localhost:8080/"
        },
        "id": "nzeVdBIS4UpE",
        "outputId": "0ad7e339-1a7e-42b7-abda-5f6c7585607d"
      },
      "source": [
        "# lower limit\r\n",
        "a = 0\r\n",
        "\r\n",
        "# upper limit\r\n",
        "b = np.pi\r\n",
        "\r\n",
        "print(f'Lower {a}, Upper {b}')"
      ],
      "execution_count": 2,
      "outputs": [
        {
          "output_type": "stream",
          "text": [
            "Lower 0, Upper 3.141592653589793\n"
          ],
          "name": "stdout"
        }
      ]
    },
    {
      "cell_type": "markdown",
      "metadata": {
        "id": "HqE04b-i6fkc"
      },
      "source": [
        "# Uniform random sample generator"
      ]
    },
    {
      "cell_type": "code",
      "metadata": {
        "id": "1WM5JAqX6Slb"
      },
      "source": [
        "# let us generate N = 1000 random samples using numpy unifrom random smaple generator\r\n",
        "N = 1000\r\n",
        "\r\n",
        "xrand = random.uniform(low = a, high = b, size = N)"
      ],
      "execution_count": 15,
      "outputs": []
    },
    {
      "cell_type": "markdown",
      "metadata": {
        "id": "YiVfaVnh9Ldd"
      },
      "source": [
        "# Function for integration"
      ]
    },
    {
      "cell_type": "code",
      "metadata": {
        "id": "9UdB7DMP70yZ"
      },
      "source": [
        "# calculating sine of the random samples\r\n",
        "def func(x):\r\n",
        "  return np.sin(x)"
      ],
      "execution_count": 4,
      "outputs": []
    },
    {
      "cell_type": "markdown",
      "metadata": {
        "id": "B_umQ69R9fjj"
      },
      "source": [
        "# Loop through the Monte-Carlo equation"
      ]
    },
    {
      "cell_type": "code",
      "metadata": {
        "colab": {
          "base_uri": "https://localhost:8080/"
        },
        "id": "7SLjpyFX9e2T",
        "outputId": "e92ef40d-3bac-4119-ceff-15647a925fe6"
      },
      "source": [
        "# variabel that stores M.C integral value\r\n",
        "\r\n",
        "integral = 0.0\r\n",
        "\r\n",
        "for i in range(N):\r\n",
        "  integral += func(xrand[i])\r\n",
        "\r\n",
        "answer = ((b-a)/N)*integral\r\n",
        "\r\n",
        "print(f'The integral from 0 ti pi of sin(x) is: {answer}')\r\n",
        "# we can find integral is M.C integral reqult is very close to actual result"
      ],
      "execution_count": 10,
      "outputs": [
        {
          "output_type": "stream",
          "text": [
            "The integral from 0 ti pi of sin(x) is: 2.0504130881770224\n"
          ],
          "name": "stdout"
        }
      ]
    },
    {
      "cell_type": "markdown",
      "metadata": {
        "id": "lqJBGkzqCIjP"
      },
      "source": [
        "# Analyzing the result\r\n",
        "\r\n",
        "Here we are trying to analyze the result from 1000 differet random samples result\r\n",
        "\r\n",
        ">1. We take each of 1000 individual uniform random samples\r\n",
        ">2. We evaluate M.C. equation to find the integral between 0 to pi\r\n",
        ">3. Record each integral or say, area under the sin(x) curve within the range\r\n",
        ">4. Plot histogram to visualize the distribution of different areas correspond to 1000 random samples"
      ]
    },
    {
      "cell_type": "code",
      "metadata": {
        "colab": {
          "base_uri": "https://localhost:8080/",
          "height": 460
        },
        "id": "54KjRl669c9Z",
        "outputId": "a9434992-ea30-43d1-f37a-673d2db9b905"
      },
      "source": [
        "areas = []\r\n",
        "\r\n",
        "for i in range(N):\r\n",
        "  \r\n",
        "  # generate individual uniform random sample list of equal lengths(here N= 1000)\r\n",
        "  xrand = random.uniform(low = a, high = b, size = N)\r\n",
        "  \r\n",
        "  # initializing the inetgarl to 0\r\n",
        "  integral = 0.0\r\n",
        "\r\n",
        "  # finding the sum of the sin(X) corresponding to each random sample within the range\r\n",
        "  for j in range(N):  \r\n",
        "    integral += func(xrand[j])\r\n",
        "  \r\n",
        "  # evaluating the arae under the curve within definite range\r\n",
        "  answer = ((b-a)/N)*integral\r\n",
        "  #print(answer)\r\n",
        "  areas.append(answer)\r\n",
        "\r\n",
        "#print(areas)\r\n",
        "# we divide the histogram plot in 30 bins\r\n",
        "plt.title('Distribution of the areas calculated')\r\n",
        "plt.hist(areas, bins = 30, ec = 'black')"
      ],
      "execution_count": 14,
      "outputs": [
        {
          "output_type": "execute_result",
          "data": {
            "text/plain": [
              "(array([ 1.,  1.,  0.,  2.,  2.,  4.,  9.,  6., 17., 20., 24., 41., 57.,\n",
              "        62., 78., 88., 67., 84., 90., 87., 70., 49., 36., 36., 26., 16.,\n",
              "         9.,  8.,  4.,  6.]),\n",
              " array([1.88392837, 1.89069032, 1.89745226, 1.90421421, 1.91097615,\n",
              "        1.91773809, 1.92450004, 1.93126198, 1.93802392, 1.94478587,\n",
              "        1.95154781, 1.95830975, 1.9650717 , 1.97183364, 1.97859558,\n",
              "        1.98535753, 1.99211947, 1.99888141, 2.00564336, 2.0124053 ,\n",
              "        2.01916725, 2.02592919, 2.03269113, 2.03945308, 2.04621502,\n",
              "        2.05297696, 2.05973891, 2.06650085, 2.07326279, 2.08002474,\n",
              "        2.08678668]),\n",
              " <a list of 30 Patch objects>)"
            ]
          },
          "metadata": {
            "tags": []
          },
          "execution_count": 14
        },
        {
          "output_type": "display_data",
          "data": {
            "image/png": "[encoded data removed]",
            "text/plain": [
              "<Figure size 432x288 with 1 Axes>"
            ]
          },
          "metadata": {
            "tags": [],
            "needs_background": "light"
          }
        }
      ]
    },
    {
      "cell_type": "markdown",
      "metadata": {
        "id": "rGtXDpXDDu-T"
      },
      "source": [
        "#### We can find that most of the results lie between **2.000 to 2.025**, in this way with the help of Monte-Carlo equation we can find integral, in case where there are the concept of expectations with respect to some distributions whose samples are known to us.\r\n",
        "\r\n",
        "> This can also help in more efficient way in multi-variate estimation"
      ]
    }
  ]
}