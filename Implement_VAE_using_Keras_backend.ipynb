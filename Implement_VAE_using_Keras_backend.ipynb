{
  "nbformat": 4,
  "nbformat_minor": 0,
  "metadata": {
    "colab": {
      "name": "Implement VAE using Keras backend",
      "provenance": [],
      "toc_visible": true,
      "authorship_tag": "ABX9TyPWDTLh3wcg/ZS2F0kptP7/",
      "include_colab_link": true
    },
    "kernelspec": {
      "name": "python3",
      "display_name": "Python 3"
    }
  },
  "cells": [
    {
      "cell_type": "markdown",
      "metadata": {
        "id": "view-in-github",
        "colab_type": "text"
      },
      "source": [
        "<a href=\"https://colab.research.google.com/github/sayan0506/Synthetic-Image-generation-using-VAE-/blob/main/Implement_VAE_using_Keras_backend.ipynb\" target=\"_parent\"><img src=\"https://colab.research.google.com/assets/colab-badge.svg\" alt=\"Open In Colab\"/></a>"
      ]
    },
    {
      "cell_type": "markdown",
      "metadata": {
        "id": "z-Y9eSzTC5tP"
      },
      "source": [
        "# Importing Modules\r\n",
        "\r\n",
        "Importing nercessary modules, here we will implement the VAE using the tensorflow backend from scratch"
      ]
    },
    {
      "cell_type": "code",
      "metadata": {
        "id": "r7mk515jC4yE"
      },
      "source": [
        "import keras\r\n",
        "from keras.layers import Conv2D, Conv2DTranspose, Input, Flatten, Dense, Lambda, Reshape\r\n",
        "# from keras.layers import BatchNormalization\r\n",
        "# importing keras functional api for neural network \r\n",
        "from keras.models import Model\r\n",
        "# in latest keras the datasets are corrspond to keras, rather than previous tensorflow.examples.tutorial\r\n",
        "from keras.datasets import mnist\r\n",
        "# this keras backend will help to do some basic calculations or math stuffs\r\n",
        "from keras import backend as K\r\n",
        "import numpy as np\r\n",
        "from matplotlib import pyplot as plt"
      ],
      "execution_count": 37,
      "outputs": []
    },
    {
      "cell_type": "markdown",
      "metadata": {
        "id": "8tJ0__2JE6mC"
      },
      "source": [
        "# Load MNIST\r\n",
        "\r\n",
        "Loading the traina and test dataset of digits"
      ]
    },
    {
      "cell_type": "code",
      "metadata": {
        "id": "mRJVYgeODHtv"
      },
      "source": [
        "(x_train, y_train), (x_test, y_test) = mnist.load_data()"
      ],
      "execution_count": 43,
      "outputs": []
    },
    {
      "cell_type": "code",
      "metadata": {
        "colab": {
          "base_uri": "https://localhost:8080/"
        },
        "id": "DbgZ3g3kFs_H",
        "outputId": "eae8208d-0804-40a3-c43e-517b33c60b18"
      },
      "source": [
        "print(f'Shape of the dataset: {x_train.shape}, {y_train.shape}, {x_test.shape}, {y_test.shape}')"
      ],
      "execution_count": 44,
      "outputs": [
        {
          "output_type": "stream",
          "text": [
            "Shape of the dataset: (60000, 28, 28), (60000,), (10000, 28, 28), (10000,)\n"
          ],
          "name": "stdout"
        }
      ]
    },
    {
      "cell_type": "markdown",
      "metadata": {
        "id": "mwyRiBd7HFxn"
      },
      "source": [
        "# Data Pre-processing"
      ]
    },
    {
      "cell_type": "markdown",
      "metadata": {
        "id": "RhgkWN5yHK_X"
      },
      "source": [
        "## Normalizing the dataset"
      ]
    },
    {
      "cell_type": "code",
      "metadata": {
        "id": "SG7fy2nIHAfu"
      },
      "source": [
        "# as VAE is a autoencoder based network, no need of classification information\r\n",
        "# so we will only deal with the images\r\n",
        "# converting the pixels to float32\r\n",
        "x_train = x_train.astype(np.float32)\r\n",
        "x_test = x_test.astype(np.float32)\r\n",
        "\r\n",
        "# normalizing the dataset\r\n",
        "x_train = x_train / 255.\r\n",
        "x_test = x_test / 255."
      ],
      "execution_count": 45,
      "outputs": []
    },
    {
      "cell_type": "markdown",
      "metadata": {
        "id": "44F_D4KkIwpw"
      },
      "source": [
        "## Reshaping the dataset"
      ]
    },
    {
      "cell_type": "code",
      "metadata": {
        "colab": {
          "base_uri": "https://localhost:8080/"
        },
        "id": "tM7gGBEQHpXj",
        "outputId": "baefcffc-6978-4783-ed56-25a5f71971d7"
      },
      "source": [
        "# reshape the data\r\n",
        "num_channels = 1\r\n",
        "# reshaping the images to 4 dimensional space shape = (m, width, height, channels)\r\n",
        "# skipped 1st 3 dimensions and adding new axis where we add channel axis\r\n",
        "# for grayscale image channel = 1\r\n",
        "x_train = x_train[:, :, :, np.newaxis]\r\n",
        "x_test = x_test[:, :, :, np.newaxis]\r\n",
        "\r\n",
        "# shape after reshaping\r\n",
        "print(f'Reshaped size: {x_train.shape}, {x_test.shape}')"
      ],
      "execution_count": 46,
      "outputs": [
        {
          "output_type": "stream",
          "text": [
            "Reshaped size: (60000, 28, 28, 1), (10000, 28, 28, 1)\n"
          ],
          "name": "stdout"
        }
      ]
    },
    {
      "cell_type": "markdown",
      "metadata": {
        "id": "7VRDRsiZKayv"
      },
      "source": [
        "# Data Visualization"
      ]
    },
    {
      "cell_type": "code",
      "metadata": {
        "colab": {
          "base_uri": "https://localhost:8080/",
          "height": 567
        },
        "id": "qxmlW08xJzSO",
        "outputId": "ee468a12-2a75-425a-c091-80b1097c23ac"
      },
      "source": [
        "# let ius visualzie 20 random sample training images\r\n",
        "\r\n",
        "# rows = 4\r\n",
        "r = 4\r\n",
        "# columns = 5\r\n",
        "c = 5\r\n",
        "\r\n",
        "fig = plt.figure(figsize=(10,10))\r\n",
        "\r\n",
        "for i in range(r * c):\r\n",
        "  fig.add_subplot(r, c, i + 1)\r\n",
        "  # random image no\r\n",
        "  img_id = np.random.randint(0, x_train.shape[0])\r\n",
        "  # np.squeeze the all unimportant dimensions, here m = 1, c = 1 for single image\r\n",
        "  plt.imshow(np.squeeze(x_train[img_id]), cmap = 'gray')\r\n",
        "  plt.xticks([])\r\n",
        "  plt.yticks([])\r\n",
        "  plt.xlabel(f'Label: {y_train[img_id]}')\r\n",
        "  # plt.axis('off')\r\n",
        "\r\n",
        "fig.show()"
      ],
      "execution_count": 54,
      "outputs": [
        {
          "output_type": "display_data",
          "data": {
            "image/png": "[encoded data removed]",
            "text/plain": [
              "<Figure size 720x720 with 20 Axes>"
            ]
          },
          "metadata": {
            "tags": []
          }
        }
      ]
    },
    {
      "cell_type": "code",
      "metadata": {
        "id": "bjR6hAAWNuuE"
      },
      "source": [
        ""
      ],
      "execution_count": null,
      "outputs": []
    }
  ]
}